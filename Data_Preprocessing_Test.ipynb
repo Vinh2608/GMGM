{
 "cells": [
  {
   "cell_type": "code",
   "execution_count": null,
   "id": "7210fef8",
   "metadata": {},
   "outputs": [],
   "source": [
    "import os "
   ]
  },
  {
   "cell_type": "code",
   "execution_count": null,
   "id": "206d4656",
   "metadata": {},
   "outputs": [],
   "source": [
    "# Save train and test keys\n",
    "import pickle\n",
    "\n",
    "with open(\"keys/train_%s.pkl\"%data_name, 'wb') as f:\n",
    "    pickle.dump(train_keys, f)\n",
    "    \n",
    "with open(\"keys/test_%s.pkl\"%data_name, 'wb') as f:\n",
    "    pickle.dump(test_keys, f)"
   ]
  },
  {
   "cell_type": "code",
   "execution_count": null,
   "id": "760d9b19",
   "metadata": {},
   "outputs": [],
   "source": [
    "from rdkit.Chem.rdmolfiles import *\n",
    "from rdkit.Chem.rdchem import *\n",
    "from rdkit.Chem.rdmolops import *\n",
    "from rdkit.Chem.Draw import *\n",
    "from rdkit.Chem.Lipinski import *"
   ]
  },
  {
   "cell_type": "code",
   "execution_count": null,
   "id": "54b90a8d",
   "metadata": {},
   "outputs": [],
   "source": [
    "def load_receptor_ligand_data(keys):\n",
    "    result_list = {}\n",
    "    \n",
    "    for key in keys:\n",
    "        receptor_name, ligand_name = key.split(\"_\")\n",
    "        \n",
    "        # Load ligand\n",
    "        ligands_sdf = SDMolSupplier(\"%s/%s_%s/%s.sdf\" % (data_dir, receptor_name, ligand_name, ligand_name))\n",
    "        ligand = ligands_sdf[0]\n",
    "        print(\"ligand %s\" % ligand_name, ligand != None)\n",
    "        \n",
    "        # Load receptor\n",
    "        receptor = MolFromPDBFile(\"%s/%s_%s/%s.pdb\" % (data_dir, receptor_name, ligand_name, receptor_name))\n",
    "        print(\"receptor %s\" % receptor_name, receptor != None)\n",
    "        \n",
    "        result_list[key] = (ligand, receptor)\n",
    "        \n",
    "    return result_list\n",
    "\n",
    "# Load and save\n",
    "def load_and_save_data_by_keys(keys):\n",
    "    train_dict = load_receptor_ligand_data(keys)\n",
    "    for key, data in train_dict.items():\n",
    "        with open('data/'+key, 'wb') as f:\n",
    "            pickle.dump(data, f)"
   ]
  },
  {
   "cell_type": "code",
   "execution_count": null,
   "id": "859efb84",
   "metadata": {},
   "outputs": [],
   "source": [
    "# Train data\n",
    "load_and_save_data_by_keys(train_keys)\n",
    "\n",
    "# Test data\n",
    "load_and_save_data_by_keys(test_keys)"
   ]
  }
 ],
 "metadata": {
  "kernelspec": {
   "display_name": "geometric_ampere",
   "language": "python",
   "name": "geometric_ampere"
  },
  "language_info": {
   "codemirror_mode": {
    "name": "ipython",
    "version": 3
   },
   "file_extension": ".py",
   "mimetype": "text/x-python",
   "name": "python",
   "nbconvert_exporter": "python",
   "pygments_lexer": "ipython3",
   "version": "3.8.10"
  }
 },
 "nbformat": 4,
 "nbformat_minor": 5
}
